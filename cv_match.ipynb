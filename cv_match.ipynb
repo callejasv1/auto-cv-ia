{
 "cells": [
  {
   "cell_type": "code",
   "execution_count": 1,
   "metadata": {},
   "outputs": [
    {
     "name": "stdout",
     "output_type": "stream",
     "text": [
      "env: OPENAI_API_KEY=sk-proj-uHl9xwQTjtgjyk8xvFxGT3BlbkFJMDmkjidulN00f2O73Lbk\n"
     ]
    }
   ],
   "source": []
  },
  {
   "cell_type": "code",
   "execution_count": null,
   "metadata": {},
   "outputs": [],
   "source": [
    "%pip install langchain-community"
   ]
  },
  {
   "cell_type": "code",
   "execution_count": 2,
   "metadata": {},
   "outputs": [],
   "source": [
    "from langchain_community.document_loaders import PyPDFLoader\n",
    "\n",
    "loader = PyPDFLoader(\"cv-edu.pdf\")\n",
    "pages = loader.load_and_split()\n",
    "document_pdf = loader.load()"
   ]
  },
  {
   "cell_type": "code",
   "execution_count": 3,
   "metadata": {},
   "outputs": [
    {
     "data": {
      "text/plain": [
       "[Document(page_content='Experiencia Laboral\\n12/2022 – PRESENTE CHILE\\nData Scientist Data Factory\\nFalabella Financiero\\nImplementación y puesta en producción de \\nmodelos analíticos avanzados para predecir \\ntendencias y comportamientos financieros, \\ncoordinando pruebas exhaustivas para \\ngarantizar la precisión y confiabilidad de los \\nmodelos en diversos casos de uso.\\n05/2021 – 12/2022 CHILE\\nCampaign Analyst Aperturas Digitales\\nFalabella Financiero\\nEvaluar campañas para medir su efectividad e \\nimpacto, obteniendo insights de negocio que \\npermitan la mejora continua.\\nAnalizar datos disponibles para generar \\ninformación valiosa que permita apalancar \\nacciones comerciales de cara a la cartera.\\nMejorar continuamente los procesos internos \\ndel área, usando las distintas plataformas y \\nherramientas disponibles.\\n07/2019 – 05/2021 SANTIAGO,\\xa0CHILE\\nAnalista de Inteligencia de Negocios\\nBanco Estado Cobranzas\\nGenerar bases de perfilamiento de clientes a \\ntravés de modelos estadísticos y aprendizaje \\nautomático.\\xa0\\nRealizar estudios periódicos que permitan \\ncomprender el comportamiento de los clientes \\nen estado de morosidad.\\nGenerar bases de datos que permita realizar \\nuna asignación inteligente de clientes a los \\ndistintos canales de atención.\\n08/2018 – PRESENTE SANTIAGO,\\xa0CHILE\\nIngeniero BI / Data Science\\nMacal RematesExperiencia Laboral\\nGestionar la captura e integración de datos \\nexternos relevantes para el negocio, \\nproporcionando apoyo para la agenda de \\ninteligencia empresarial y control comercial en el \\nárea de Vehículos Livianos, basado en análisis de \\ndatos del mercado y de la empresa.\\n08/2015 – 07/2018 SANTIAGO,\\xa0CHILE\\nIngeniero de Desarrollo y Plataformas\\nBI\\nLaboratorios Garden House\\nEncargado de impulsar el desarrollo tecnológico \\ncomercial a través de la implementación de \\nmodelos de visualización y análisis de datos \\nutilizando Qlikview y el ERP, además de \\ncoordinar con el equipo de informática para \\nmejorar los procesos.\\nEducación\\n2018 – 2019 SANTIAGO,\\xa0CHILE\\nBootCamp Data Scientist\\nDesafioLatam\\n2017 – 2018 SANTIAGO,\\xa0CHILE\\nDiplomado Big Data para la Toma de\\nDecisiones\\nPontificia Universidad Católica de Chile\\n2009 – 2015 SANTIAGO,\\xa0CHILE\\nIngenieria Civil Industrial\\nUniversidad de Santiago de Chile\\n2003 – 2008 SANTIAGO,\\xa0CHILE\\nEducación Secundaria\\nInstituto Nacional General José Miguel\\nCarrera\\n03/12/1990 Santiago, Chile +56982547615\\neduardo.callejas@usach.clEduardoCallejasP.\\n\"Nunca dejar de aprender\" es mi lema. Creo firmemente en que podemos aprender de todas las experiencias \\ny que todas las personas tienen algo que enseñar. Muy interesado en el desarrollo de proyectos de BI, \\nAnálisis de Datos, Big Data y todo lo relacionado con Data Science1/2', metadata={'source': 'cv-edu.pdf', 'page': 0}),\n",
       " Document(page_content='Habilidades\\n–LENGUAJE:\\nEspañol\\nInglés\\n–HERRAMIENTAS\\nSQL\\nTableau\\nMicrosoft Excel\\nQlikview\\nPython\\nR\\nCertificados y Cursos\\n2018\\nMicrosoft Office Specialist (MS Excel)\\nMicrosoft\\n2017\\nIntermediate Python for Data Science\\nCourse\\nDataCamp\\n2018\\nIntro a Ruby on Rails\\nDesafioLatam\\nOnline\\nPremios\\n09/2019\\n1er Lugar Hackshow 2019\\nDesafioLatam\\nPrimer Lugar en Hackshow DesafioLatam 2019, \\npresentación de los mejores proyectos \\ntecnológicos de la academia DesafioLatam. El \\nproyecto presentado fue \"Aplicaciones de \\nMachine Learning en la definición de la estrategia\\nde una organización: el caso Delivery\"Producir Música Leer\\nEscuchar\\nMúsicaSintetizadores\\nJugar\\nVideojuegosAficiones\\nOtros2/2\\n@ecallejasp @callejasv1', metadata={'source': 'cv-edu.pdf', 'page': 1})]"
      ]
     },
     "execution_count": 3,
     "metadata": {},
     "output_type": "execute_result"
    }
   ],
   "source": [
    "pages"
   ]
  },
  {
   "cell_type": "code",
   "execution_count": 10,
   "metadata": {},
   "outputs": [],
   "source": [
    "import fitz \n",
    "doc = fitz.open('cv-edu.pdf') \n",
    "curriculum = \"\" \n",
    "for page in doc: \n",
    "   curriculum+=page.get_text() \n"
   ]
  },
  {
   "cell_type": "code",
   "execution_count": 5,
   "metadata": {},
   "outputs": [],
   "source": [
    "from langchain.evaluation import load_evaluator\n",
    "\n",
    "evaluator = load_evaluator(\"embedding_distance\")"
   ]
  },
  {
   "cell_type": "code",
   "execution_count": 13,
   "metadata": {},
   "outputs": [],
   "source": [
    "empleo_adm=\"\"\"Tus principales desafíos serán:\n",
    "La administración de recursos financieros y la supervisión de la gestión presupuestaria de la Facultad/Unidad, validando con su jefatura y entregando asesoría cuando es requerida.\n",
    "Labores administrativas según requerimientos de la Unidad.\n",
    "\n",
    "Para este desafío, buscamos talentos con:\n",
    "Conocimiento en confección y análisis presupuestario.\n",
    "Conocimiento en gestión financiera y contable.\n",
    "Conocimiento técnico sobre Ley de la Renta, Ley Laboral, Ley de Impuestos.\n",
    "Conocimiento y experiencia en apertura y cierre de proyectos internos y externos.\n",
    "Conocimiento y manejo de herramientas computacionales Office nivel intermedio.\n",
    "Conocimiento y manejo de inventarios activo fijo.\n",
    "Deseable conocimiento y manejo de Sistema IProcurement – Oracle.\n",
    "Deseable conocimiento y manejo de planes de cuentas financieras de la Universidad.\"\"\""
   ]
  },
  {
   "cell_type": "code",
   "execution_count": 15,
   "metadata": {},
   "outputs": [],
   "source": [
    "empleo_ds=\"\"\"El team de Data Operations Ecommerce está buscando a su próximo/a \"Analista Data Analytics Junior\" para hacer la diferencia en nuestro equipo de Walmart Digital, reportando al Subgerente de Data Operations Ecommerce.\n",
    "\n",
    "Valoramos tu historia y eso que nos hace únicos. Es por eso impulsamos un ambiente de trabajo inclusivo, en donde puedes ser tu mejor versión y hacer la diferencia junto a nosotros.\n",
    "\n",
    "*Esta oferta laboral se rige bajo la Ley Nº 21.015 que incentiva la inclusión de personas con discapacidad al mundo laboral.\n",
    "\n",
    "Función:\n",
    "Realiza análisis descriptivos y modelado estadístico de conjuntos de datos existentes en varias áreas del negocio, por medio de la recolección de datos, procesamiento, limpieza, modelado, identificación de patrones y tendencias, debiendo aplicar técnicas de diferentes niveles de complejidad para la visualización, análisis e interpretación de datos para su uso en el desarrollo de estrategias y/o tácticas de negocio con el fin de responder preguntas de negocio y mejorar la toma de decisiones.\n",
    "\n",
    "Educación y experiencia:\n",
    "Educación Superior Completa, Ingeniería Comercial o Ing. Civil Industrial.\n",
    "Al menos 1 año de experiencia en análisis e informes comerciales, BI.\n",
    "Conocimientos básico de estadística y bases de datos.\n",
    "Inglés Avanzado\"\"\""
   ]
  },
  {
   "cell_type": "code",
   "execution_count": 16,
   "metadata": {},
   "outputs": [
    {
     "data": {
      "text/plain": [
       "{'score': 0.17473003396608366}"
      ]
     },
     "execution_count": 16,
     "metadata": {},
     "output_type": "execute_result"
    }
   ],
   "source": [
    "evaluator.evaluate_strings(prediction=curriculum, reference=empleo_ds)\n",
    "\n",
    "\n"
   ]
  },
  {
   "cell_type": "code",
   "execution_count": 17,
   "metadata": {},
   "outputs": [
    {
     "data": {
      "text/plain": [
       "{'score': 0.21921007245445467}"
      ]
     },
     "execution_count": 17,
     "metadata": {},
     "output_type": "execute_result"
    }
   ],
   "source": [
    "evaluator.evaluate_strings(prediction=curriculum, reference=empleo_adm)\n"
   ]
  },
  {
   "cell_type": "code",
   "execution_count": 2,
   "metadata": {},
   "outputs": [
    {
     "name": "stdout",
     "output_type": "stream",
     "text": [
      "pipreqs  --savepath /Users/ecallejasp/Library/Mobile Documents/com~apple~CloudDocs/IA/AutomaticCV/cv-matcher /Users/ecallejasp/Library/Mobile Documents/com~apple~CloudDocs/IA/AutomaticCV/cv-matcher\n",
      "Usage:\n",
      "    pipreqs [options] [<path>]\n"
     ]
    }
   ],
   "source": [
    "!pipreqsnb --savepath \"/Users/ecallejasp/Library/Mobile Documents/com~apple~CloudDocs/IA/AutomaticCV/cv-matcher\"\n",
    "\n"
   ]
  },
  {
   "cell_type": "code",
   "execution_count": null,
   "metadata": {},
   "outputs": [],
   "source": []
  }
 ],
 "metadata": {
  "kernelspec": {
   "display_name": ".venv",
   "language": "python",
   "name": "python3"
  },
  "language_info": {
   "codemirror_mode": {
    "name": "ipython",
    "version": 3
   },
   "file_extension": ".py",
   "mimetype": "text/x-python",
   "name": "python",
   "nbconvert_exporter": "python",
   "pygments_lexer": "ipython3",
   "version": "3.12.4"
  }
 },
 "nbformat": 4,
 "nbformat_minor": 2
}
